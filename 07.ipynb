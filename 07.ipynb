{
 "cells": [
  {
   "cell_type": "code",
   "execution_count": null,
   "id": "787a3d60-be40-4bb4-874a-3f7d726b76cd",
   "metadata": {},
   "outputs": [],
   "source": [
    "wine_df.head()"
   ]
  },
  {
   "cell_type": "code",
   "execution_count": null,
   "id": "a4cecdb3-5d07-4347-a7b6-26cd930c3f4b",
   "metadata": {},
   "outputs": [],
   "source": [
    "print(\"\\nFinal DataFrame shape:\" , wine_df.shape)"
   ]
  },
  {
   "cell_type": "code",
   "execution_count": null,
   "id": "34ef7c96-66e2-486c-873c-ca76ed1923fe",
   "metadata": {},
   "outputs": [],
   "source": [
    "print(\"Initial Columns: \\n\" , wine_df.columns)"
   ]
  },
  {
   "cell_type": "code",
   "execution_count": null,
   "id": "677e1462-9f0c-404f-b976-3b0f5cb70bbf",
   "metadata": {},
   "outputs": [],
   "source": []
  }
 ],
 "metadata": {
  "kernelspec": {
   "display_name": "Python 3 (ipykernel)",
   "language": "python",
   "name": "python3"
  },
  "language_info": {
   "codemirror_mode": {
    "name": "ipython",
    "version": 3
   },
   "file_extension": ".py",
   "mimetype": "text/x-python",
   "name": "python",
   "nbconvert_exporter": "python",
   "pygments_lexer": "ipython3",
   "version": "3.12.7"
  }
 },
 "nbformat": 4,
 "nbformat_minor": 5
}
