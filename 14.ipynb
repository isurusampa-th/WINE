{
 "cells": [
  {
   "cell_type": "code",
   "execution_count": null,
   "id": "db287b35-4243-4c74-b206-b5d591d913dc",
   "metadata": {},
   "outputs": [],
   "source": [
    "sample_data = df.sample(n=50, random_state=42)\n",
    "# Select a random sample of 50 reviews\n"
   ]
  },
  {
   "cell_type": "code",
   "execution_count": null,
   "id": "85b1aa92-21e1-4c79-93f7-fea37f917614",
   "metadata": {},
   "outputs": [],
   "source": [
    "# Apply classification on the random sample\n",
    "sample_data['predicted_category'] = sample_data['review'].apply(classify_review)\n"
   ]
  },
  {
   "cell_type": "code",
   "execution_count": null,
   "id": "926ba551-1f4d-4877-a0ae-89b3d306ac9b",
   "metadata": {},
   "outputs": [],
   "source": [
    "manual_labels = [\n",
    "    'talks about taste', 'talks about food combinations', 'talks about value for money', 'other',\n",
    "    # Add more labels to reach 50\n",
    "]\n",
    "print(len(manual_labels))  # This should return 50\n"
   ]
  },
  {
   "cell_type": "code",
   "execution_count": null,
   "id": "d3f4beb0-fc52-40e2-9995-3cb2cb6c5592",
   "metadata": {},
   "outputs": [],
   "source": [
    "manual_labels = ['talks about taste', 'talks about food combinations'] * 25  # Repeat to match 50 rows\n",
    "manual_labels = manual_labels[:50]  # Truncate to ensure exactly 50 items\n"
   ]
  },
  {
   "cell_type": "code",
   "execution_count": null,
   "id": "a3cba48f-7282-462b-905d-baf023be4f66",
   "metadata": {},
   "outputs": [],
   "source": [
    "sample_data['manual_category'] = manual_labels\n"
   ]
  },
  {
   "cell_type": "code",
   "execution_count": null,
   "id": "68686f65-72e5-4d81-a416-cd42dfef14a9",
   "metadata": {},
   "outputs": [],
   "source": [
    "print(len(sample_data))  # Should return 50\n"
   ]
  },
  {
   "cell_type": "code",
   "execution_count": null,
   "id": "954200bb-8026-4a1f-be83-7aced3cc7906",
   "metadata": {},
   "outputs": [],
   "source": [
    "# Apply classification on the random sample\n",
    "sample_data['predicted_category'] = sample_data['review'].apply(classify_review)\n"
   ]
  },
  {
   "cell_type": "code",
   "execution_count": null,
   "id": "1a79872c-b8b3-4653-9f3a-6f236fb9f48f",
   "metadata": {},
   "outputs": [],
   "source": [
    "# Calculate accuracy\n",
    "accuracy = (sample_data['predicted_category'] == sample_data['manual_category']).mean()\n",
    "print(f\"Accuracy: {accuracy:.2f}\")\n",
    "\n",
    "# View mismatches\n",
    "mismatches = sample_data[sample_data['predicted_category'] != sample_data['manual_category']]\n",
    "print(\"Mismatches:\\n\", mismatches)\n"
   ]
  },
  {
   "cell_type": "code",
   "execution_count": null,
   "id": "c2ec338a-ba7c-4bc6-bf15-c5a12140f1b1",
   "metadata": {},
   "outputs": [],
   "source": [
    "# Export the DataFrame to a CSV file\n",
    "sample_data.to_csv(r'C:\\Users\\USER\\Documents\\classified_wine_reviews.csv', index=False)\n",
    "\n"
   ]
  }
 ],
 "metadata": {
  "kernelspec": {
   "display_name": "Python 3 (ipykernel)",
   "language": "python",
   "name": "python3"
  },
  "language_info": {
   "codemirror_mode": {
    "name": "ipython",
    "version": 3
   },
   "file_extension": ".py",
   "mimetype": "text/x-python",
   "name": "python",
   "nbconvert_exporter": "python",
   "pygments_lexer": "ipython3",
   "version": "3.12.7"
  }
 },
 "nbformat": 4,
 "nbformat_minor": 5
}
