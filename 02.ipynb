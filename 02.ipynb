{
 "cells": [
  {
   "cell_type": "code",
   "execution_count": null,
   "id": "14e96a0c-81c0-492b-926e-d5dfec87833f",
   "metadata": {},
   "outputs": [],
   "source": [
    "print(\"DataFrame Info:\")\n",
    "wine_df.info()"
   ]
  },
  {
   "cell_type": "code",
   "execution_count": null,
   "id": "ea6ed85e-a318-46f1-bbb8-7b5e1b917e79",
   "metadata": {},
   "outputs": [],
   "source": [
    "duplicates=wine_df.duplicated().sum()\n",
    "print(f\"\\nNumber of duplicates records:{duplicates}\")"
   ]
  },
  {
   "cell_type": "code",
   "execution_count": null,
   "id": "b17dab94-094f-408a-bd21-47ee11ae465f",
   "metadata": {},
   "outputs": [],
   "source": [
    "if duplicates > 0:\n",
    "    wine_df = wine_df.drop_duplicates()\n",
    "    print(f\"Removed {duplicates} duplicate records.\")"
   ]
  }
 ],
 "metadata": {
  "kernelspec": {
   "display_name": "Python 3 (ipykernel)",
   "language": "python",
   "name": "python3"
  },
  "language_info": {
   "codemirror_mode": {
    "name": "ipython",
    "version": 3
   },
   "file_extension": ".py",
   "mimetype": "text/x-python",
   "name": "python",
   "nbconvert_exporter": "python",
   "pygments_lexer": "ipython3",
   "version": "3.12.7"
  }
 },
 "nbformat": 4,
 "nbformat_minor": 5
}
