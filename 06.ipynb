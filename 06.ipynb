{
 "cells": [
  {
   "cell_type": "code",
   "execution_count": null,
   "id": "cfa35a9d-6d9d-4a0d-922a-b06ffd13aeb0",
   "metadata": {},
   "outputs": [],
   "source": [
    "import ast"
   ]
  },
  {
   "cell_type": "code",
   "execution_count": null,
   "id": "6aab3aa7-969c-4ed5-96ac-17ffe7e45ae3",
   "metadata": {},
   "outputs": [],
   "source": [
    "wine_df['Food pairings'] = wine_df['Food pairings'].apply(lambda x: ast.literal_eval(x) if isinstance(x,str) else x)"
   ]
  },
  {
   "cell_type": "code",
   "execution_count": null,
   "id": "9a9a3051-4123-4705-9515-1ce79be5dd17",
   "metadata": {},
   "outputs": [],
   "source": [
    "unique_foods= set(food for sublist in wine_df['Food pairings'].dropna() for food in sublist)"
   ]
  },
  {
   "cell_type": "code",
   "execution_count": null,
   "id": "23959aeb-3b27-4d2d-baa9-c7ae36b06ed8",
   "metadata": {},
   "outputs": [],
   "source": [
    "for food in unique_foods:\n",
    "    wine_df[food] = wine_df['Food pairings'].apply(lambda x : food in x if isinstance(x,list) else False)"
   ]
  },
  {
   "cell_type": "code",
   "execution_count": null,
   "id": "eab47b03-7e85-4066-88f9-7fa03218912d",
   "metadata": {},
   "outputs": [],
   "source": [
    "print(\"\\nDataFrame with Food pairing indicator columns:\")\n",
    "print(wine_df[['Food pairings'] +list(unique_foods)].head())"
   ]
  }
 ],
 "metadata": {
  "kernelspec": {
   "display_name": "Python 3 (ipykernel)",
   "language": "python",
   "name": "python3"
  },
  "language_info": {
   "codemirror_mode": {
    "name": "ipython",
    "version": 3
   },
   "file_extension": ".py",
   "mimetype": "text/x-python",
   "name": "python",
   "nbconvert_exporter": "python",
   "pygments_lexer": "ipython3",
   "version": "3.12.7"
  }
 },
 "nbformat": 4,
 "nbformat_minor": 5
}
