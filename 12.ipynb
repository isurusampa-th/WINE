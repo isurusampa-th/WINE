{
 "cells": [
  {
   "cell_type": "code",
   "execution_count": null,
   "id": "9ad9f68e-a2fd-40f1-baa5-244627003fd0",
   "metadata": {},
   "outputs": [],
   "source": [
    "!pip install transformers"
   ]
  },
  {
   "cell_type": "code",
   "execution_count": null,
   "id": "ee595ad9-3c36-435a-8bfe-d7d79ae27519",
   "metadata": {},
   "outputs": [],
   "source": [
    "import pandas as pd\n",
    "from transformers import pipeline\n",
    "\n",
    "# Selected model: \"facebook/bart-large-mnli\"\n",
    "# Rationale: The facebook/bart-large-mnli model is well-suited for zero-shot classification tasks. It is robust, pre-trained on the Multi-Genre Natural Language Inference (MNLI) dataset, and handles diverse text data effectively. It enables classification without requiring fine-tuning on task-specific data.\n",
    "\n",
    "# Load the zero-shot classification pipeline\n",
    "classifier = pipeline(\"zero-shot-classification\", model=\"facebook/bart-large-mnli\", device=-1)  # Use device=-1 for CPU\n"
   ]
  },
  {
   "cell_type": "code",
   "execution_count": null,
   "id": "0b2e6c92-1f54-4394-b444-1f191b8193f3",
   "metadata": {},
   "outputs": [],
   "source": [
    "# Define the candidate labels for classification\n",
    "candidate_labels = [\n",
    "    \"talks about food combinations\",\n",
    "    \"talks about taste\",\n",
    "    \"talks about value for money\",\n",
    "    \"other\"\n",
    "] \n",
    "\n",
    "# Function to classify a single review\n",
    "def classify_review(text):\n",
    "    result = classifier(text, candidate_labels)  # Get classification result\n",
    "    return result[\"labels\"][0]  # Return the highest confidence label\n"
   ]
  },
  {
   "cell_type": "code",
   "execution_count": null,
   "id": "d9c65e72-8a45-479d-8148-166953f18c22",
   "metadata": {},
   "outputs": [],
   "source": [
    "# Apply classification to the 'review' column\n",
    "df[\"talks_about\"] = df[\"review\"].apply(classify_review)\n",
    "\n",
    "# Load the dataset from the CSV file\n",
    "df = pd.read_csv(r'C:\\Users\\USER\\Downloads\\cleaned_wine_reviews.csv')\n"
   ]
  },
  {
   "cell_type": "code",
   "execution_count": null,
   "id": "90dc7a59-d528-408b-8fb5-b1fa43486b1a",
   "metadata": {},
   "outputs": [],
   "source": [
    "#Check the updated DataFrame\n",
    "print(df.head())\n",
    "\n",
    "# Save the updated DataFrame with the classification results to a new CSV\n",
    "df.to_csv(r'C:\\Users\\USER\\Downloads\\classified_wine_reviews.csv', index=False)\n"
   ]
  },
  {
   "cell_type": "code",
   "execution_count": null,
   "id": "00cbdd34-7deb-4dbe-b9e5-4b2ba4c47e60",
   "metadata": {},
   "outputs": [],
   "source": []
  },
  {
   "cell_type": "code",
   "execution_count": null,
   "id": "6beae234-6244-4a83-aa11-7fa57e2bd4ec",
   "metadata": {},
   "outputs": [],
   "source": []
  }
 ],
 "metadata": {
  "kernelspec": {
   "display_name": "Python 3 (ipykernel)",
   "language": "python",
   "name": "python3"
  },
  "language_info": {
   "codemirror_mode": {
    "name": "ipython",
    "version": 3
   },
   "file_extension": ".py",
   "mimetype": "text/x-python",
   "name": "python",
   "nbconvert_exporter": "python",
   "pygments_lexer": "ipython3",
   "version": "3.12.7"
  }
 },
 "nbformat": 4,
 "nbformat_minor": 5
}
