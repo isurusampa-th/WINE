{
 "cells": [
  {
   "cell_type": "code",
   "execution_count": null,
   "id": "731ef02f-62fe-4d40-9ae2-a9ba0f90d46d",
   "metadata": {},
   "outputs": [],
   "source": [
    "null_counts= wine_df.isnull().sum()\n",
    "print(\"\\nNull Value Counts:\")\n",
    "print(null_counts)\n"
   ]
  },
  {
   "cell_type": "code",
   "execution_count": null,
   "id": "b74e232e-63e7-4e88-914c-e340b9549695",
   "metadata": {},
   "outputs": [],
   "source": [
    "print(f\"\\nDataFrame shape after Cleaning:{wine_df.shape}\")"
   ]
  }
 ],
 "metadata": {
  "kernelspec": {
   "display_name": "Python 3 (ipykernel)",
   "language": "python",
   "name": "python3"
  },
  "language_info": {
   "codemirror_mode": {
    "name": "ipython",
    "version": 3
   },
   "file_extension": ".py",
   "mimetype": "text/x-python",
   "name": "python",
   "nbconvert_exporter": "python",
   "pygments_lexer": "ipython3",
   "version": "3.12.7"
  }
 },
 "nbformat": 4,
 "nbformat_minor": 5
}
