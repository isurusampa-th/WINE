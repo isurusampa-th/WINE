{
 "cells": [
  {
   "cell_type": "code",
   "execution_count": null,
   "id": "d07b958e-f2a2-472d-bb8a-b57321f57b2a",
   "metadata": {},
   "outputs": [],
   "source": [
    "# Get the shape of the DataFrame\n",
    "print(\"Shape of the DataFrame:\", wine_reviews.shape)\n"
   ]
  },
  {
   "cell_type": "code",
   "execution_count": null,
   "id": "f13ae2b3-bebe-4717-806f-861669689da1",
   "metadata": {},
   "outputs": [],
   "source": [
    "# Display column names\n",
    "print(\"Columns:\", wine_reviews.columns)"
   ]
  },
  {
   "cell_type": "code",
   "execution_count": null,
   "id": "1ad27369-82ff-4fd5-bc29-ebdc907ab14a",
   "metadata": {},
   "outputs": [],
   "source": [
    "# Display basic statistics\n",
    "print(wine_reviews.describe())"
   ]
  }
 ],
 "metadata": {
  "kernelspec": {
   "display_name": "Python 3 (ipykernel)",
   "language": "python",
   "name": "python3"
  },
  "language_info": {
   "codemirror_mode": {
    "name": "ipython",
    "version": 3
   },
   "file_extension": ".py",
   "mimetype": "text/x-python",
   "name": "python",
   "nbconvert_exporter": "python",
   "pygments_lexer": "ipython3",
   "version": "3.12.7"
  }
 },
 "nbformat": 4,
 "nbformat_minor": 5
}
