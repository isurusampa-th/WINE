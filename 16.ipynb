{
 "cells": [
  {
   "cell_type": "code",
   "execution_count": null,
   "id": "3f8fed2f-f936-4c92-b534-48ca53aff5ed",
   "metadata": {},
   "outputs": [],
   "source": [
    "import dash\n",
    "from dash import dcc, html, Input, Output\n",
    "import pandas as pd\n",
    "import plotly.express as px\n",
    "import seaborn as sns\n",
    "import matplotlib.pyplot as plt\n"
   ]
  },
  {
   "cell_type": "code",
   "execution_count": null,
   "id": "5ee7d7fe-aa20-4ec6-8d42-f05bd9ef7f0e",
   "metadata": {},
   "outputs": [],
   "source": [
    "# File path for the CSV file\n",
    "file_path = r\"C:\\Users\\jeewa\\Downloads\\wine_df.csv\"\n",
    "\n",
    "# Reading the CSV file\n",
    "wine_df = pd.read_csv(file_path)\n",
    "\n",
    "# Initialize the Dash app\n",
    "app = dash.Dash(__name__)\n"
   ]
  },
  {
   "cell_type": "code",
   "execution_count": null,
   "id": "349194f6-8046-4d5d-94e4-c397ff3c4801",
   "metadata": {},
   "outputs": [],
   "source": [
    "# Layout of the dashboard\n",
    "app.layout = html.Div([\n",
    "    html.H1(\"Wine Dashboard: Country vs Region\", style={'textAlign': 'center'}),\n",
    "    \n",
    "    # Dropdown to filter data by Country\n",
    "    html.Div([\n",
    "        html.Label(\"Select a Country:\"),\n",
    "        dcc.Dropdown(\n",
    "            id='country-dropdown',\n",
    "            options=[{'label': country, 'value': country} for country in wine_df['Country'].unique()],\n",
    "            value=wine_df['Country'].unique()[0],  # Default to the first country\n",
    "            clearable=False\n",
    "        )\n",
    "    ], style={'width': '50%', 'margin': '0 auto'}),\n",
    "    \n",
    "    # Stacked Bar Chart Visualization\n",
    "    dcc.Graph(id='stacked-bar-chart'),\n",
    "])\n"
   ]
  },
  {
   "cell_type": "code",
   "execution_count": null,
   "id": "5076e67a-2461-43d9-9951-e51d8d2d16bd",
   "metadata": {},
   "outputs": [],
   "source": [
    "# Callback to update the chart based on dropdown selection\n",
    "@app.callback(\n",
    "    Output('stacked-bar-chart', 'figure'),\n",
    "    [Input('country-dropdown', 'value')]\n",
    ")\n",
    "def update_chart(selected_country):\n",
    "    # Filter data based on the selected Country\n",
    "    filtered_df = wine_df[wine_df['Country'] == selected_country]\n",
    "    \n",
    "    # Group data for visualization\n",
    "    grouped_data = filtered_df.groupby(['Country_region']).size().reset_index(name='Count')\n",
    "    \n",
    "    # Create a bar chart\n",
    "    fig = px.bar(\n",
    "        grouped_data, \n",
    "        x='Country_region', \n",
    "        y='Count', \n",
    "        title=f\"Regions in {selected_country}\",\n",
    "        labels={'Count': 'Count', 'Country_region': 'Region'},\n",
    "        color='Country_region',\n",
    "        color_discrete_sequence=px.colors.qualitative.Vivid\n",
    "    )\n",
    "    \n",
    "    fig.update_layout(\n",
    "        xaxis_title=\"Region\", \n",
    "        yaxis_title=\"Count\", \n",
    "        barmode='stack',\n",
    "        title_x=0.5  # Center the title\n",
    "    )\n",
    "    \n",
    "    return(fig)\n"
   ]
  }
 ],
 "metadata": {
  "kernelspec": {
   "display_name": "Python 3 (ipykernel)",
   "language": "python",
   "name": "python3"
  },
  "language_info": {
   "codemirror_mode": {
    "name": "ipython",
    "version": 3
   },
   "file_extension": ".py",
   "mimetype": "text/x-python",
   "name": "python",
   "nbconvert_exporter": "python",
   "pygments_lexer": "ipython3",
   "version": "3.12.7"
  }
 },
 "nbformat": 4,
 "nbformat_minor": 5
}
