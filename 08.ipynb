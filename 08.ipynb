{
 "cells": [
  {
   "cell_type": "code",
   "execution_count": null,
   "id": "06c632c4-55f3-4542-a42f-e9961a5494a0",
   "metadata": {},
   "outputs": [],
   "source": [
    "columns_to_drop= ['Region','Food pairings']\n",
    "# 'region': The information from this column has been split into 'Country' and 'Country_region',making it redundant.\n",
    "# 'Food pairings': This column has been expanded into individual food indicator columns, so it's no longer needed."
   ]
  },
  {
   "cell_type": "code",
   "execution_count": null,
   "id": "bc4dbdcb-8680-47db-a9a7-4f28a9fe044a",
   "metadata": {},
   "outputs": [],
   "source": [
    "wine_df= wine_df.drop(columns= columns_to_drop)"
   ]
  },
  {
   "cell_type": "code",
   "execution_count": null,
   "id": "704540ab-6d18-43d5-baf2-3a59c4d04817",
   "metadata": {},
   "outputs": [],
   "source": [
    "print(\"\\nUpdated Columns:\\n\",wine_df.columns)"
   ]
  }
 ],
 "metadata": {
  "kernelspec": {
   "display_name": "Python 3 (ipykernel)",
   "language": "python",
   "name": "python3"
  },
  "language_info": {
   "codemirror_mode": {
    "name": "ipython",
    "version": 3
   },
   "file_extension": ".py",
   "mimetype": "text/x-python",
   "name": "python",
   "nbconvert_exporter": "python",
   "pygments_lexer": "ipython3",
   "version": "3.12.7"
  }
 },
 "nbformat": 4,
 "nbformat_minor": 5
}
