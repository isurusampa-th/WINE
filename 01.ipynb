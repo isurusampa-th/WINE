{
 "cells": [
  {
   "cell_type": "code",
   "execution_count": null,
   "id": "9843e50d-0339-4a3d-b513-78a90f0df3dc",
   "metadata": {},
   "outputs": [],
   "source": [
    "import pandas as pd\n",
    "import os"
   ]
  },
  {
   "cell_type": "code",
   "execution_count": null,
   "id": "a709ec0f-cc7f-4a42-b103-dd54fc31fbd8",
   "metadata": {},
   "outputs": [],
   "source": [
    "folder_path= r\"C:\\Users\\USER\\Downloads\\CASE1\\CASE1\\wine_stats\""
   ]
  },
  {
   "cell_type": "code",
   "execution_count": null,
   "id": "8f9d8b26-c2ae-4d98-82b1-05b2c2454872",
   "metadata": {},
   "outputs": [],
   "source": [
    "csv_files=[file for file in os.listdir(folder_path) if file.endswith('.csv')]"
   ]
  },
  {
   "cell_type": "code",
   "execution_count": null,
   "id": "e5f44fc0-7364-48fb-8511-fedfebc92f9f",
   "metadata": {},
   "outputs": [],
   "source": [
    "dataframes=[pd.read_csv(os.path.join(folder_path,file)) for file in csv_files]"
   ]
  },
  {
   "cell_type": "code",
   "execution_count": null,
   "id": "2e568ca2-8e47-46c3-ad35-7191dd61f71b",
   "metadata": {},
   "outputs": [],
   "source": [
    "wine_df=pd.concat(dataframes, ignore_index=True)"
   ]
  },
  {
   "cell_type": "code",
   "execution_count": null,
   "id": "cf04125d-ab39-4a15-8bd1-a98f5dc2cea4",
   "metadata": {},
   "outputs": [],
   "source": [
    "wine_df.head()"
   ]
  },
  {
   "cell_type": "code",
   "execution_count": null,
   "id": "b214ca95-c546-4633-b7cc-b5c2e5119393",
   "metadata": {},
   "outputs": [],
   "source": []
  }
 ],
 "metadata": {
  "kernelspec": {
   "display_name": "Python 3 (ipykernel)",
   "language": "python",
   "name": "python3"
  },
  "language_info": {
   "codemirror_mode": {
    "name": "ipython",
    "version": 3
   },
   "file_extension": ".py",
   "mimetype": "text/x-python",
   "name": "python",
   "nbconvert_exporter": "python",
   "pygments_lexer": "ipython3",
   "version": "3.12.7"
  }
 },
 "nbformat": 4,
 "nbformat_minor": 5
}
