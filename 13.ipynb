{
 "cells": [
  {
   "cell_type": "code",
   "execution_count": null,
   "id": "528312c3-edc0-49db-8298-c81a7b090fed",
   "metadata": {},
   "outputs": [],
   "source": [
    "import matplotlib.pyplot as plt\n",
    "import seaborn as sns"
   ]
  },
  {
   "cell_type": "code",
   "execution_count": null,
   "id": "8981e44b-b11b-44f9-a9e4-ff330e6b9d10",
   "metadata": {},
   "outputs": [],
   "source": [
    "# Convert category counts to a DataFrame\n",
    "category_counts = df[\"talks_about\"].value_counts().reset_index()\n",
    "category_counts.columns = [\"Category\", \"Count\"]\n",
    "\n",
    "# Calculate total count for percentage calculation\n",
    "total_count = category_counts[\"Count\"].sum()\n"
   ]
  },
  {
   "cell_type": "code",
   "execution_count": null,
   "id": "eb4a29b3-e3bd-46c3-85fd-e5515eb89017",
   "metadata": {},
   "outputs": [],
   "source": [
    "# Create the bar chart\n",
    "plt.figure(figsize=(8, 6))\n",
    "ax = sns.barplot(\n",
    "    data=category_counts,\n",
    "    x=\"Category\",\n",
    "    y=\"Count\",\n",
    "    hue=\"Category\",  \n",
    "    dodge=False,  \n",
    "    palette=\"viridis\",\n",
    "    legend=False \n",
    ")\n",
    "\n",
    "# Add percentages on top of each bar\n",
    "for i, row in category_counts.iterrows():\n",
    "    percentage = f\"{(row['Count'] / total_count) * 100:.1f}%\"  \n",
    "    ax.text(\n",
    "        i, row[\"Count\"] + 0.5, percentage,  \n",
    "        ha=\"center\", va=\"bottom\", fontsize=10, color=\"black\"\n",
    "    )"
   ]
  },
  {
   "cell_type": "code",
   "execution_count": null,
   "id": "26309a0a-66ce-48fd-97bc-91aac13db51d",
   "metadata": {},
   "outputs": [],
   "source": [
    "# Add titles and labels\n",
    "plt.title(\"Spread of Categories in Wine Reviews\", fontsize=16)\n",
    "plt.xlabel(\"Categories\", fontsize=12)\n",
    "plt.ylabel(\"Number of Reviews\", fontsize=12)\n",
    "plt.xticks(rotation=45, ha=\"right\")\n",
    "plt.tight_layout()"
   ]
  },
  {
   "cell_type": "code",
   "execution_count": null,
   "id": "bbd17b5c-7d36-4105-9e03-801ef43c392e",
   "metadata": {},
   "outputs": [],
   "source": [
    "# Show the plot\n",
    "plt.show()"
   ]
  }
 ],
 "metadata": {
  "kernelspec": {
   "display_name": "Python 3 (ipykernel)",
   "language": "python",
   "name": "python3"
  },
  "language_info": {
   "codemirror_mode": {
    "name": "ipython",
    "version": 3
   },
   "file_extension": ".py",
   "mimetype": "text/x-python",
   "name": "python",
   "nbconvert_exporter": "python",
   "pygments_lexer": "ipython3",
   "version": "3.12.7"
  }
 },
 "nbformat": 4,
 "nbformat_minor": 5
}
