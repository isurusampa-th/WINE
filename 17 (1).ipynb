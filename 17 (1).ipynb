{
 "cells": [
  {
   "cell_type": "code",
   "execution_count": null,
   "id": "a2fcb1f7-87d6-41ba-83d4-13f99094879f",
   "metadata": {},
   "outputs": [],
   "source": [
    "# Select columns P to AK (adjust based on your file's structure)\n",
    "columns_p_to_ak = wine_df.columns[15:37]  # Columns P to AK correspond to index 15-36\n",
    "subset = wine_df[columns_p_to_ak]\n"
   ]
  },
  {
   "cell_type": "code",
   "execution_count": null,
   "id": "d2c8377f-6b7d-4397-9d1d-7128aeb31081",
   "metadata": {},
   "outputs": [],
   "source": [
    "# Count the 'True' values in each column\n",
    "true_counts = subset.sum()"
   ]
  },
  {
   "cell_type": "code",
   "execution_count": null,
   "id": "c89c8301-5fe5-481f-9d10-04051ef78fae",
   "metadata": {},
   "outputs": [],
   "source": [
    "# Create a clustered bar chart\n",
    "plt.figure(figsize=(14, 7))\n",
    "true_counts.plot(kind='bar', color='skyblue', edgecolor='black')\n"
   ]
  },
  {
   "cell_type": "code",
   "execution_count": null,
   "id": "00ca8d29-1802-44aa-b077-e9dd8f4c273f",
   "metadata": {},
   "outputs": [],
   "source": [
    "# Add chart details\n",
    "plt.title(\"Distribution of food pairings\", fontsize=16)\n",
    "plt.ylabel(\"Count\", fontsize=12)\n",
    "plt.xlabel(\"Categories\", fontsize=12)\n",
    "plt.xticks(rotation=45, ha='right', fontsize=10)\n",
    "plt.grid(axis='y', linestyle='--', alpha=0.7)\n",
    "plt.tight_layout()\n"
   ]
  },
  {
   "cell_type": "code",
   "execution_count": null,
   "id": "b201945c-4146-4334-8b07-ccbced192163",
   "metadata": {},
   "outputs": [],
   "source": [
    "# Display the plot\n",
    "plt.show()\n"
   ]
  },
  {
   "cell_type": "code",
   "execution_count": null,
   "id": "13d094d9-a39f-47e1-b503-73a25110a7df",
   "metadata": {},
   "outputs": [],
   "source": [
    "# Run the app\n",
    "if __name__ == '__main__':\n",
    "    app.run_server(debug=True)\n"
   ]
  }
 ],
 "metadata": {
  "kernelspec": {
   "display_name": "Python 3 (ipykernel)",
   "language": "python",
   "name": "python3"
  },
  "language_info": {
   "codemirror_mode": {
    "name": "ipython",
    "version": 3
   },
   "file_extension": ".py",
   "mimetype": "text/x-python",
   "name": "python",
   "nbconvert_exporter": "python",
   "pygments_lexer": "ipython3",
   "version": "3.12.7"
  }
 },
 "nbformat": 4,
 "nbformat_minor": 5
}
