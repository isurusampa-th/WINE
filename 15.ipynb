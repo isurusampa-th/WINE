{
 "cells": [
  {
   "cell_type": "code",
   "execution_count": null,
   "id": "32286d9f-b280-4482-a2d2-180a9e5aa124",
   "metadata": {},
   "outputs": [],
   "source": [
    "import pandas as pd\n",
    "import os"
   ]
  },
  {
   "cell_type": "code",
   "execution_count": null,
   "id": "416ea1db-86b0-4845-a870-510a1a54e4df",
   "metadata": {},
   "outputs": [],
   "source": [
    "import pandas as pd\n",
    "\n",
    "# File path for the CSV file\n",
    "file_path = r\"C:\\Users\\jeewa\\Downloads\\wine_df.csv\""
   ]
  },
  {
   "cell_type": "code",
   "execution_count": null,
   "id": "8c6236bf-b9a6-494a-88c8-159594b00b6a",
   "metadata": {},
   "outputs": [],
   "source": [
    "\n",
    "# Reading the CSV file\n",
    "wine_df = pd.read_csv(file_path)\n",
    "\n",
    "# Display the first 5 rows\n",
    "print(wine_df.head())\n"
   ]
  },
  {
   "cell_type": "code",
   "execution_count": null,
   "id": "439bb6f3-c1ed-47f5-9e47-146059f50af3",
   "metadata": {},
   "outputs": [],
   "source": [
    "pip install dash pandas\n"
   ]
  }
 ],
 "metadata": {
  "kernelspec": {
   "display_name": "Python 3 (ipykernel)",
   "language": "python",
   "name": "python3"
  },
  "language_info": {
   "codemirror_mode": {
    "name": "ipython",
    "version": 3
   },
   "file_extension": ".py",
   "mimetype": "text/x-python",
   "name": "python",
   "nbconvert_exporter": "python",
   "pygments_lexer": "ipython3",
   "version": "3.12.7"
  }
 },
 "nbformat": 4,
 "nbformat_minor": 5
}
