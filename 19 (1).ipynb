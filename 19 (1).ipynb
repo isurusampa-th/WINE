{
 "cells": [
  {
   "cell_type": "code",
   "execution_count": null,
   "id": "5030a3a6-e50e-4444-93a4-f27f69e67503",
   "metadata": {},
   "outputs": [],
   "source": [
    "melted_df = wine_df.melt(\n",
    "    id_vars=[],  # Keep this empty or specify identifiers like 'Wine Name' if needed\n",
    "    value_vars=['Sweet', 'Bold', 'Tannin', 'Acidic'],  # Columns to be plotted\n",
    "    var_name='Feature',\n",
    "    value_name='Value'\n",
    ")\n",
    "\n",
    "# Create a FacetGrid\n",
    "g = sns.FacetGrid(melted_df, col=\"Feature\", col_wrap=2, sharex=False, sharey=True)\n",
    "g.map(sns.histplot, \"Value\", kde=True)\n",
    "\n",
    "# Adjust layout\n",
    "g.set_titles(\"{col_name} Distribution\")\n",
    "g.set_axis_labels(\"Score\", \"Frequency\")\n",
    "plt.tight_layout()\n",
    "plt.show()\n",
    "\n",
    "plt.figure(figsize=(12, 6))\n",
    "sns.violinplot(data=wine_df, x=\"Country\", y=\"Price\", inner=\"quart\", palette=\"muted\")\n",
    "\n"
   ]
  },
  {
   "cell_type": "code",
   "execution_count": null,
   "id": "4106ff37-46f2-4afc-b6e8-41d4f26c402e",
   "metadata": {},
   "outputs": [],
   "source": [
    "# Create the violin plot\n",
    "plt.figure(figsize=(12, 6))\n",
    "sns.violinplot(\n",
    "    data=wine_df, \n",
    "    x=\"Country\", \n",
    "    y=\"Price\", \n",
    "    hue=\"Country\",  # Assign the x variable to hue\n",
    "    dodge=False,    # Avoid splitting violins by hue\n",
    "    palette=\"muted\", \n",
    "    legend=False    # Disable duplicate legends\n",
    ")\n",
    "\n",
    "# Customize the plot\n",
    "plt.title(\"Price Distribution by Country\", fontsize=16)\n",
    "plt.xlabel(\"Country\", fontsize=12)\n",
    "plt.ylabel(\"Price\", fontsize=12)\n",
    "plt.xticks(rotation=45)  # Rotate x-axis labels for better visibility\n",
    "plt.tight_layout()\n"
   ]
  },
  {
   "cell_type": "code",
   "execution_count": null,
   "id": "d1c29995-6aeb-4b35-a290-af45d6bec30a",
   "metadata": {},
   "outputs": [],
   "source": [
    "# Show the plot\n",
    "plt.show()\n"
   ]
  },
  {
   "cell_type": "code",
   "execution_count": null,
   "id": "9a219d45-3f78-4067-9409-916b911b3cde",
   "metadata": {},
   "outputs": [],
   "source": [
    "# Run the app\n",
    "if __name__ == '__main__':\n",
    "    app.run_server(debug=True)\n"
   ]
  }
 ],
 "metadata": {
  "kernelspec": {
   "display_name": "Python 3 (ipykernel)",
   "language": "python",
   "name": "python3"
  },
  "language_info": {
   "codemirror_mode": {
    "name": "ipython",
    "version": 3
   },
   "file_extension": ".py",
   "mimetype": "text/x-python",
   "name": "python",
   "nbconvert_exporter": "python",
   "pygments_lexer": "ipython3",
   "version": "3.12.7"
  }
 },
 "nbformat": 4,
 "nbformat_minor": 5
}
