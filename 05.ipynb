{
 "cells": [
  {
   "cell_type": "code",
   "execution_count": null,
   "id": "5729ad44-141b-4ed5-8afa-1fa5cb9a1085",
   "metadata": {},
   "outputs": [],
   "source": [
    "wine_df['Country'] = wine_df['Region'].apply(lambda x: x.split(' / ')[0] if isinstance(x,str) else None)\n",
    "wine_df['Country_region']= wine_df['Region'].apply(lambda x: x.split(' / ')[1] if isinstance (x,str) and ' / ' in  x else None)"
   ]
  },
  {
   "cell_type": "code",
   "execution_count": null,
   "id": "5eb60675-827b-47cd-b8a6-74dda65e0697",
   "metadata": {},
   "outputs": [],
   "source": [
    "print(\"\\nDataFrame with Country and Country_region columns:\")\n",
    "print(wine_df[['Country','Country_region']].head())"
   ]
  },
  {
   "cell_type": "code",
   "execution_count": null,
   "id": "01504ddf-2535-413e-a41b-1be4638e7fd3",
   "metadata": {},
   "outputs": [],
   "source": [
    "wine_df.head()"
   ]
  },
  {
   "cell_type": "code",
   "execution_count": null,
   "id": "0f44237c-9c17-45f8-ae37-06586843e0af",
   "metadata": {},
   "outputs": [],
   "source": []
  }
 ],
 "metadata": {
  "kernelspec": {
   "display_name": "Python 3 (ipykernel)",
   "language": "python",
   "name": "python3"
  },
  "language_info": {
   "codemirror_mode": {
    "name": "ipython",
    "version": 3
   },
   "file_extension": ".py",
   "mimetype": "text/x-python",
   "name": "python",
   "nbconvert_exporter": "python",
   "pygments_lexer": "ipython3",
   "version": "3.12.7"
  }
 },
 "nbformat": 4,
 "nbformat_minor": 5
}
