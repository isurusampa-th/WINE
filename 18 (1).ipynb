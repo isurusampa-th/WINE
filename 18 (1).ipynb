{
 "cells": [
  {
   "cell_type": "code",
   "execution_count": null,
   "id": "237daa5c-039d-418f-9ff8-1c0fc8d6af47",
   "metadata": {},
   "outputs": [],
   "source": [
    "# Create a scatter plot\n",
    "# Filter rows with valid Price, Rating, and Country values (handling any missing data)\n",
    "wine_df = wine_df.dropna(subset=[\"Price\", \"Rating\", \"Country\"])\n",
    "\n",
    "# Convert Price and Rating columns to numeric (if necessary)\n",
    "wine_df[\"Price\"] = pd.to_numeric(wine_df[\"Price\"], errors=\"coerce\")  # Fixed typo here\n",
    "wine_df[\"Rating\"] = pd.to_numeric(wine_df[\"Rating\"], errors=\"coerce\")\n"
   ]
  },
  {
   "cell_type": "code",
   "execution_count": null,
   "id": "58ce8679-f5b4-4734-83ff-c71020df0339",
   "metadata": {},
   "outputs": [],
   "source": [
    "# Filter rows with invalid Price and Rating values\n",
    "wine_df = wine_df.dropna(subset=[\"Price\", \"Rating\"])\n",
    "\n",
    "# Set up the figure size\n",
    "plt.figure(figsize=(12, 8))\n",
    "\n",
    "# Create a scatter plot using seaborn\n",
    "sns.scatterplot(\n",
    "    data=wine_df,\n",
    "    x=\"Price\",\n",
    "    y=\"Rating\",\n",
    "    hue=\"Country\",\n",
    "    palette=\"tab10\",  # Color palette\n",
    "    alpha=0.8         # Transparency for points\n",
    ")"
   ]
  },
  {
   "cell_type": "code",
   "execution_count": null,
   "id": "620571f5-80cd-475b-a2da-01529faad1ad",
   "metadata": {},
   "outputs": [],
   "source": [
    "# Add chart details\n",
    "plt.title(\"Price vs Rating Colored by Country\", fontsize=16)  # Moved this outside the comment\n",
    "plt.xlabel(\"Price\", fontsize=12)\n",
    "plt.ylabel(\"Rating\", fontsize=12)\n",
    "plt.legend(title=\"Country\", bbox_to_anchor=(1.05, 1), loc=\"upper left\", fontsize=10)\n",
    "plt.grid(alpha=0.5, linestyle=\"--\")\n",
    "plt.tight_layout()\n"
   ]
  },
  {
   "cell_type": "code",
   "execution_count": null,
   "id": "7ae2a3af-b230-4ba1-a17e-517906846a71",
   "metadata": {},
   "outputs": [],
   "source": [
    "# Show the plot\n",
    "plt.show()\n"
   ]
  },
  {
   "cell_type": "code",
   "execution_count": null,
   "id": "facf4525-2b72-4069-84e0-19fbc85213eb",
   "metadata": {},
   "outputs": [],
   "source": [
    "# Run the app\n",
    "if __name__ == '__main__':\n",
    "    app.run_server(debug=True)\n"
   ]
  }
 ],
 "metadata": {
  "kernelspec": {
   "display_name": "Python 3 (ipykernel)",
   "language": "python",
   "name": "python3"
  },
  "language_info": {
   "codemirror_mode": {
    "name": "ipython",
    "version": 3
   },
   "file_extension": ".py",
   "mimetype": "text/x-python",
   "name": "python",
   "nbconvert_exporter": "python",
   "pygments_lexer": "ipython3",
   "version": "3.12.7"
  }
 },
 "nbformat": 4,
 "nbformat_minor": 5
}
