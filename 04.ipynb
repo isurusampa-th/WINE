{
 "cells": [
  {
   "cell_type": "code",
   "execution_count": null,
   "id": "9cddc2fd-cf55-4480-a119-1087071e2d3b",
   "metadata": {},
   "outputs": [],
   "source": [
    "import matplotlib.pyplot as plt\n",
    "import seaborn as sns"
   ]
  },
  {
   "cell_type": "code",
   "execution_count": null,
   "id": "121825ea-4e47-4845-a38c-dbdcde752cc9",
   "metadata": {},
   "outputs": [],
   "source": [
    "numerical_columns = wine_df.select_dtypes(include= ['float64', 'int64']).columns"
   ]
  },
  {
   "cell_type": "code",
   "execution_count": null,
   "id": "7062605d-9fd6-4170-b3a0-b828a8e20d26",
   "metadata": {},
   "outputs": [],
   "source": [
    "for col in numerical_columns:\n",
    "    plt.figure(figsize= (8,4))\n",
    "    sns.boxplot(data=wine_df,x=col)\n",
    "    plt.title(f\"Boxplot of {col}\")\n",
    "    plt.show()\n",
    "    "
   ]
  },
  {
   "cell_type": "code",
   "execution_count": null,
   "id": "ac1fec1f-33f0-4906-96b0-1cef351746a6",
   "metadata": {},
   "outputs": [],
   "source": [
    "for col in numerical_columns:\n",
    "Q1 = wine_df[col].quantile(0.25)\n",
    "Q3 = wine_df[col].quantile(0.75)\n",
    "IQR = Q3 - Q1\n",
    "lower_bound = Q1 - 1.5* IQR\n",
    "upper_bound = Q3 + 1.5 * IQR\n",
    "wine_df = wine_df[(wine_df[col]>= lower_bound)&(wine_df[col] <= upper_bound)]"
   ]
  },
  {
   "cell_type": "code",
   "execution_count": null,
   "id": "e76e030d-9b9a-4f8e-97a4-66f53e8c9a6c",
   "metadata": {},
   "outputs": [],
   "source": [
    "print(\"\\nFinal DataFrame shape:\" , wine_df.shape)"
   ]
  }
 ],
 "metadata": {
  "kernelspec": {
   "display_name": "Python 3 (ipykernel)",
   "language": "python",
   "name": "python3"
  },
  "language_info": {
   "codemirror_mode": {
    "name": "ipython",
    "version": 3
   },
   "file_extension": ".py",
   "mimetype": "text/x-python",
   "name": "python",
   "nbconvert_exporter": "python",
   "pygments_lexer": "ipython3",
   "version": "3.12.7"
  }
 },
 "nbformat": 4,
 "nbformat_minor": 5
}
