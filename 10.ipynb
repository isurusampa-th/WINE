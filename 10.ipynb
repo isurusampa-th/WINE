{
 "cells": [
  {
   "cell_type": "code",
   "execution_count": null,
   "id": "7b44efb2-c5a4-40f2-8753-37f74fbd8a98",
   "metadata": {},
   "outputs": [],
   "source": [
    "# Check for missing reviews\n",
    "missing_reviews = wine_reviews[\"review\"].isnull().sum()\n",
    "print(f\"Number of missing reviews: {missing_reviews}\")"
   ]
  },
  {
   "cell_type": "code",
   "execution_count": null,
   "id": "e435a91e-c5ff-44a1-81e5-edbcafce7811",
   "metadata": {},
   "outputs": [],
   "source": [
    "# Drop rows with missing reviews\n",
    "df = wine_reviews.dropna(subset=[\"review\"])\n"
   ]
  },
  {
   "cell_type": "code",
   "execution_count": null,
   "id": "d31c5cca-076b-4e13-ab76-e4c8a02c5b9e",
   "metadata": {},
   "outputs": [],
   "source": [
    "# Verify the rows were removed\n",
    "missing_reviews_after = df[\"review\"].isnull().sum()\n",
    "print(f\"Number of missing reviews after dropping: {missing_reviews_after}\")\n"
   ]
  },
  {
   "cell_type": "code",
   "execution_count": null,
   "id": "103b5b3f-87c4-47e7-995a-c7e6f26df285",
   "metadata": {},
   "outputs": [],
   "source": [
    "# Optionally, save the cleaned dataset\n",
    "wine_reviews.to_csv(r'C:\\Users\\USER\\Downloads\\cleaned_wine_reviews.csv', index=False)\n"
   ]
  }
 ],
 "metadata": {
  "kernelspec": {
   "display_name": "Python 3 (ipykernel)",
   "language": "python",
   "name": "python3"
  },
  "language_info": {
   "codemirror_mode": {
    "name": "ipython",
    "version": 3
   },
   "file_extension": ".py",
   "mimetype": "text/x-python",
   "name": "python",
   "nbconvert_exporter": "python",
   "pygments_lexer": "ipython3",
   "version": "3.12.7"
  }
 },
 "nbformat": 4,
 "nbformat_minor": 5
}
